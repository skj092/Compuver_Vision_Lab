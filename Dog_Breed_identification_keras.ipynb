{
  "nbformat": 4,
  "nbformat_minor": 0,
  "metadata": {
    "colab": {
      "provenance": [],
      "collapsed_sections": [],
      "mount_file_id": "144Ge0Y9joW-3OrhtWY3WSXpWYwcIRBb7",
      "authorship_tag": "ABX9TyNiamZ9p59j0tWoQlQrbzFo",
      "include_colab_link": true
    },
    "kernelspec": {
      "name": "python3",
      "display_name": "Python 3"
    },
    "language_info": {
      "name": "python"
    },
    "gpuClass": "standard",
    "accelerator": "GPU"
  },
  "cells": [
    {
      "cell_type": "markdown",
      "metadata": {
        "id": "view-in-github",
        "colab_type": "text"
      },
      "source": [
        "<a href=\"https://colab.research.google.com/github/skj092/Lab/blob/main/Dog_Breed_identification_keras.ipynb\" target=\"_parent\"><img src=\"https://colab.research.google.com/assets/colab-badge.svg\" alt=\"Open In Colab\"/></a>"
      ]
    },
    {
      "cell_type": "code",
      "execution_count": 1,
      "metadata": {
        "id": "d_SwxieqvYKh"
      },
      "outputs": [],
      "source": [
        "# importing the necessary libraries \n",
        "import numpy as np \n",
        "import pandas as pd \n",
        "import matplotlib.pyplot as plt \n",
        "import datetime \n",
        "from sklearn.model_selection import train_test_split\n",
        "from sklearn.metrics import accuracy_score\n",
        "import tensorflow as tf \n",
        "from tensorflow.keras import models, layers \n",
        "from tensorflow.keras.preprocessing.image import ImageDataGenerator \n",
        "from tensorflow.keras.callbacks import EarlyStopping, ReduceLROnPlateau, ModelCheckpoint\n",
        "from tensorflow.keras.applications import EfficientNetB0\n",
        "from tensorflow.keras.optimizers import Adam\n",
        "import os, cv2, json \n",
        "from PIL import Image \n",
        "import keras"
      ]
    },
    {
      "cell_type": "code",
      "source": [
        "# downloading the dataset \n",
        "\n",
        "\n",
        "os.environ['KAGGLE_CONFIG_DIR'] = '/content/drive/MyDrive/kaggle/'"
      ],
      "metadata": {
        "id": "VoPwB92zwXqd"
      },
      "execution_count": 2,
      "outputs": []
    },
    {
      "cell_type": "code",
      "source": [
        "%%bash \n",
        "\n",
        "kaggle competitions download -c dog-breed-identification\n",
        "\n",
        "unzip -q dog-breed-identification.zip \n",
        "\n",
        "rm dog-breed-identification.zip"
      ],
      "metadata": {
        "colab": {
          "base_uri": "https://localhost:8080/"
        },
        "id": "jV4D9ik-xCCF",
        "outputId": "13653f13-36a9-4cf5-d093-c14b384659d9"
      },
      "execution_count": 3,
      "outputs": [
        {
          "output_type": "stream",
          "name": "stdout",
          "text": [
            "Downloading dog-breed-identification.zip to /content\n",
            "\n"
          ]
        },
        {
          "output_type": "stream",
          "name": "stderr",
          "text": [
            "\r  0%|          | 0.00/691M [00:00<?, ?B/s]\r  1%|          | 5.00M/691M [00:00<00:49, 14.6MB/s]\r  1%|▏         | 9.00M/691M [00:00<01:01, 11.6MB/s]\r  5%|▌         | 36.0M/691M [00:00<00:11, 58.6MB/s]\r  7%|▋         | 49.0M/691M [00:01<00:16, 39.8MB/s]\r  9%|▉         | 62.0M/691M [00:01<00:12, 52.3MB/s]\r 11%|█         | 73.0M/691M [00:01<00:15, 41.7MB/s]\r 12%|█▏        | 81.0M/691M [00:02<00:15, 42.3MB/s]\r 13%|█▎        | 89.0M/691M [00:02<00:24, 25.3MB/s]\r 17%|█▋        | 115M/691M [00:02<00:12, 49.3MB/s] \r 18%|█▊        | 127M/691M [00:03<00:15, 37.7MB/s]\r 22%|██▏       | 149M/691M [00:03<00:09, 57.1MB/s]\r 23%|██▎       | 162M/691M [00:04<00:12, 46.0MB/s]\r 26%|██▌       | 177M/691M [00:04<00:10, 51.1MB/s]\r 27%|██▋       | 186M/691M [00:04<00:11, 44.8MB/s]\r 28%|██▊       | 193M/691M [00:05<00:17, 30.0MB/s]\r 31%|███       | 213M/691M [00:05<00:10, 47.2MB/s]\r 33%|███▎      | 225M/691M [00:05<00:12, 40.3MB/s]\r 35%|███▍      | 240M/691M [00:05<00:08, 53.0MB/s]\r 36%|███▌      | 250M/691M [00:06<00:08, 55.4MB/s]\r 37%|███▋      | 259M/691M [00:06<00:11, 39.7MB/s]\r 40%|███▉      | 276M/691M [00:06<00:07, 56.7MB/s]\r 41%|████▏     | 286M/691M [00:06<00:06, 61.9MB/s]\r 43%|████▎     | 296M/691M [00:07<00:09, 45.0MB/s]\r 44%|████▍     | 307M/691M [00:07<00:07, 54.3MB/s]\r 46%|████▋     | 321M/691M [00:07<00:09, 41.3MB/s]\r 49%|████▉     | 339M/691M [00:07<00:06, 59.0MB/s]\r 51%|█████     | 349M/691M [00:07<00:05, 65.6MB/s]\r 52%|█████▏    | 359M/691M [00:08<00:07, 49.5MB/s]\r 53%|█████▎    | 369M/691M [00:08<00:06, 52.5MB/s]\r 55%|█████▍    | 377M/691M [00:09<00:13, 25.0MB/s]\r 56%|█████▌    | 387M/691M [00:09<00:09, 31.9MB/s]\r 59%|█████▉    | 409M/691M [00:09<00:07, 40.6MB/s]\r 62%|██████▏   | 425M/691M [00:10<00:05, 51.7MB/s]\r 63%|██████▎   | 433M/691M [00:10<00:04, 55.5MB/s]\r 64%|██████▍   | 441M/691M [00:10<00:05, 43.8MB/s]\r 66%|██████▌   | 457M/691M [00:10<00:04, 57.8MB/s]\r 68%|██████▊   | 472M/691M [00:10<00:03, 73.2MB/s]\r 70%|██████▉   | 482M/691M [00:11<00:04, 48.1MB/s]\r 72%|███████▏  | 500M/691M [00:11<00:03, 64.7MB/s]\r 74%|███████▍  | 510M/691M [00:11<00:03, 52.5MB/s]\r 75%|███████▌  | 521M/691M [00:11<00:02, 59.7MB/s]\r 77%|███████▋  | 529M/691M [00:11<00:02, 58.2MB/s]\r 78%|███████▊  | 537M/691M [00:12<00:03, 52.0MB/s]\r 80%|████████  | 553M/691M [00:12<00:02, 58.9MB/s]\r 81%|████████  | 561M/691M [00:12<00:02, 60.4MB/s]\r 82%|████████▏ | 569M/691M [00:12<00:02, 48.9MB/s]\r 85%|████████▍ | 585M/691M [00:13<00:02, 53.7MB/s]\r 87%|████████▋ | 601M/691M [00:13<00:01, 51.5MB/s]\r 89%|████████▉ | 614M/691M [00:13<00:01, 62.5MB/s]\r 90%|█████████ | 622M/691M [00:13<00:01, 63.2MB/s]\r 92%|█████████▏| 633M/691M [00:13<00:01, 54.0MB/s]\r 93%|█████████▎| 641M/691M [00:14<00:00, 57.5MB/s]\r 94%|█████████▍| 649M/691M [00:14<00:00, 56.6MB/s]\r 96%|█████████▌| 665M/691M [00:14<00:00, 57.8MB/s]\r 98%|█████████▊| 674M/691M [00:14<00:00, 63.7MB/s]\r 99%|█████████▊| 681M/691M [00:14<00:00, 42.8MB/s]\r100%|██████████| 691M/691M [00:14<00:00, 48.4MB/s]\n"
          ]
        }
      ]
    },
    {
      "cell_type": "code",
      "source": [
        "# Config \n",
        "class CFG:\n",
        "    WORK_DIR = \"/content\"\n",
        "    BATCH_SIZE = 32\n",
        "    EPOCHS = 5 \n",
        "    TARGET_SIZE = 224"
      ],
      "metadata": {
        "id": "RkJXntNuv8y_"
      },
      "execution_count": 4,
      "outputs": []
    },
    {
      "cell_type": "code",
      "source": [
        "# model\n",
        "def create_model():\n",
        "    conv_base = EfficientNetB0(include_top=False, weights= None, input_shape=(CFG.TARGET_SIZE, CFG.TARGET_SIZE, 3))\n",
        "    model = conv_base.output\n",
        "    model = layers.GlobalAveragePooling2D()(model)\n",
        "    model = layers.Dense(5, activation='softmax')(model)\n",
        "    model = models.Model(inputs=conv_base.input, outputs=model)\n",
        "    model.compile(optimizer=Adam(lr=0.001), loss='categorical_crossentropy', metrics=['accuracy'])\n",
        "    return model"
      ],
      "metadata": {
        "id": "XsVfHKL9wDii"
      },
      "execution_count": 5,
      "outputs": []
    },
    {
      "cell_type": "code",
      "source": [
        "import tensorflow as tf \n",
        "from tensorflow.keras import layers \n",
        "\n",
        "def create_model():\n",
        "    base_model = tf.keras.applications.mobilenet_v2.MobileNetV2(include_top = False, \n",
        "                                                     classes = 120) \n",
        "    base_model.trainable = False \n",
        "\n",
        "    inputs = layers.Input(shape = (224,224,3))\n",
        "    x = base_model(inputs, training = False) \n",
        "    x = tf.keras.layers.GlobalAveragePooling2D(name= \"global_average_pooling\")(x)\n",
        "    x = layers.Dropout(0.2)(x)\n",
        "    outputs = tf.keras.layers.Dense(120, activation=\"softmax\")(x)\n",
        "\n",
        "\n",
        "    ModelDogBreed = tf.keras.Model(inputs, outputs) \n",
        "\n",
        "    ModelDogBreed.compile(loss = \"categorical_crossentropy\", \n",
        "                         optimizer = tf.keras.optimizers.Adam(), \n",
        "                         metrics=[\"accuracy\"]) \n",
        "\n",
        "    return ModelDogBreed"
      ],
      "metadata": {
        "id": "kUoN7LKwHc3e"
      },
      "execution_count": 6,
      "outputs": []
    },
    {
      "cell_type": "code",
      "source": [
        "def activation_layer_vis(img, activation_layer=0, layers=10):\n",
        "    layer_outputs = [layer.output for layer in model.layers[:layers]]\n",
        "    activation_model = models.Model(inputs=model.input, outputs=layer_outputs)\n",
        "    activations = activation_model.predict(img)\n",
        "    rows = int(activations[activation_layer].shape[3]/3)\n",
        "    cols = int(activations[activation_layer].shape[3]/rows)\n",
        "    fig, ax = plt.subplots(rows, cols, figsize=(15, 15*cols))\n",
        "    axes = ax.flatten()\n",
        "    for i, ax in zip(range(activations[activation_layer].shape[3]), axes):\n",
        "        ax.imshow(activations[activation_layer][0, :, :, i], cmap='viridis')\n",
        "        ax.axis('off')\n",
        "    plt.tight_layout()\n",
        "    plt.show()"
      ],
      "metadata": {
        "id": "nkNPs-NjwGQo"
      },
      "execution_count": 7,
      "outputs": []
    },
    {
      "cell_type": "code",
      "source": [
        "# data\n",
        "train_labels = pd.read_csv(os.path.join(CFG.WORK_DIR, \"labels.csv\"))\n",
        "STEPS_PER_EPOCH = len(train_labels)*0.8//CFG.BATCH_SIZE\n",
        "VALIDATION_STEPS = len(train_labels)*0.2//CFG.BATCH_SIZE"
      ],
      "metadata": {
        "id": "-tFERIxDwIIu"
      },
      "execution_count": 8,
      "outputs": []
    },
    {
      "cell_type": "code",
      "source": [
        "train_labels['id'] = train_labels['id'] + '.jpg'"
      ],
      "metadata": {
        "id": "4IjjcdNbzmOY"
      },
      "execution_count": 9,
      "outputs": []
    },
    {
      "cell_type": "code",
      "source": [
        "train_labels.head()"
      ],
      "metadata": {
        "colab": {
          "base_uri": "https://localhost:8080/",
          "height": 206
        },
        "id": "zknH-4gU1iiO",
        "outputId": "9ee28361-09e8-4b7a-fe5f-a1058689b565"
      },
      "execution_count": 10,
      "outputs": [
        {
          "output_type": "execute_result",
          "data": {
            "text/plain": [
              "                                     id             breed\n",
              "0  000bec180eb18c7604dcecc8fe0dba07.jpg       boston_bull\n",
              "1  001513dfcb2ffafc82cccf4d8bbaba97.jpg             dingo\n",
              "2  001cdf01b096e06d78e9e5112d419397.jpg          pekinese\n",
              "3  00214f311d5d2247d5dfe4fe24b2303d.jpg          bluetick\n",
              "4  0021f9ceb3235effd7fcde7f7538ed62.jpg  golden_retriever"
            ],
            "text/html": [
              "\n",
              "  <div id=\"df-b21b168a-3761-434d-a865-d5347c7dc428\">\n",
              "    <div class=\"colab-df-container\">\n",
              "      <div>\n",
              "<style scoped>\n",
              "    .dataframe tbody tr th:only-of-type {\n",
              "        vertical-align: middle;\n",
              "    }\n",
              "\n",
              "    .dataframe tbody tr th {\n",
              "        vertical-align: top;\n",
              "    }\n",
              "\n",
              "    .dataframe thead th {\n",
              "        text-align: right;\n",
              "    }\n",
              "</style>\n",
              "<table border=\"1\" class=\"dataframe\">\n",
              "  <thead>\n",
              "    <tr style=\"text-align: right;\">\n",
              "      <th></th>\n",
              "      <th>id</th>\n",
              "      <th>breed</th>\n",
              "    </tr>\n",
              "  </thead>\n",
              "  <tbody>\n",
              "    <tr>\n",
              "      <th>0</th>\n",
              "      <td>000bec180eb18c7604dcecc8fe0dba07.jpg</td>\n",
              "      <td>boston_bull</td>\n",
              "    </tr>\n",
              "    <tr>\n",
              "      <th>1</th>\n",
              "      <td>001513dfcb2ffafc82cccf4d8bbaba97.jpg</td>\n",
              "      <td>dingo</td>\n",
              "    </tr>\n",
              "    <tr>\n",
              "      <th>2</th>\n",
              "      <td>001cdf01b096e06d78e9e5112d419397.jpg</td>\n",
              "      <td>pekinese</td>\n",
              "    </tr>\n",
              "    <tr>\n",
              "      <th>3</th>\n",
              "      <td>00214f311d5d2247d5dfe4fe24b2303d.jpg</td>\n",
              "      <td>bluetick</td>\n",
              "    </tr>\n",
              "    <tr>\n",
              "      <th>4</th>\n",
              "      <td>0021f9ceb3235effd7fcde7f7538ed62.jpg</td>\n",
              "      <td>golden_retriever</td>\n",
              "    </tr>\n",
              "  </tbody>\n",
              "</table>\n",
              "</div>\n",
              "      <button class=\"colab-df-convert\" onclick=\"convertToInteractive('df-b21b168a-3761-434d-a865-d5347c7dc428')\"\n",
              "              title=\"Convert this dataframe to an interactive table.\"\n",
              "              style=\"display:none;\">\n",
              "        \n",
              "  <svg xmlns=\"http://www.w3.org/2000/svg\" height=\"24px\"viewBox=\"0 0 24 24\"\n",
              "       width=\"24px\">\n",
              "    <path d=\"M0 0h24v24H0V0z\" fill=\"none\"/>\n",
              "    <path d=\"M18.56 5.44l.94 2.06.94-2.06 2.06-.94-2.06-.94-.94-2.06-.94 2.06-2.06.94zm-11 1L8.5 8.5l.94-2.06 2.06-.94-2.06-.94L8.5 2.5l-.94 2.06-2.06.94zm10 10l.94 2.06.94-2.06 2.06-.94-2.06-.94-.94-2.06-.94 2.06-2.06.94z\"/><path d=\"M17.41 7.96l-1.37-1.37c-.4-.4-.92-.59-1.43-.59-.52 0-1.04.2-1.43.59L10.3 9.45l-7.72 7.72c-.78.78-.78 2.05 0 2.83L4 21.41c.39.39.9.59 1.41.59.51 0 1.02-.2 1.41-.59l7.78-7.78 2.81-2.81c.8-.78.8-2.07 0-2.86zM5.41 20L4 18.59l7.72-7.72 1.47 1.35L5.41 20z\"/>\n",
              "  </svg>\n",
              "      </button>\n",
              "      \n",
              "  <style>\n",
              "    .colab-df-container {\n",
              "      display:flex;\n",
              "      flex-wrap:wrap;\n",
              "      gap: 12px;\n",
              "    }\n",
              "\n",
              "    .colab-df-convert {\n",
              "      background-color: #E8F0FE;\n",
              "      border: none;\n",
              "      border-radius: 50%;\n",
              "      cursor: pointer;\n",
              "      display: none;\n",
              "      fill: #1967D2;\n",
              "      height: 32px;\n",
              "      padding: 0 0 0 0;\n",
              "      width: 32px;\n",
              "    }\n",
              "\n",
              "    .colab-df-convert:hover {\n",
              "      background-color: #E2EBFA;\n",
              "      box-shadow: 0px 1px 2px rgba(60, 64, 67, 0.3), 0px 1px 3px 1px rgba(60, 64, 67, 0.15);\n",
              "      fill: #174EA6;\n",
              "    }\n",
              "\n",
              "    [theme=dark] .colab-df-convert {\n",
              "      background-color: #3B4455;\n",
              "      fill: #D2E3FC;\n",
              "    }\n",
              "\n",
              "    [theme=dark] .colab-df-convert:hover {\n",
              "      background-color: #434B5C;\n",
              "      box-shadow: 0px 1px 3px 1px rgba(0, 0, 0, 0.15);\n",
              "      filter: drop-shadow(0px 1px 2px rgba(0, 0, 0, 0.3));\n",
              "      fill: #FFFFFF;\n",
              "    }\n",
              "  </style>\n",
              "\n",
              "      <script>\n",
              "        const buttonEl =\n",
              "          document.querySelector('#df-b21b168a-3761-434d-a865-d5347c7dc428 button.colab-df-convert');\n",
              "        buttonEl.style.display =\n",
              "          google.colab.kernel.accessAllowed ? 'block' : 'none';\n",
              "\n",
              "        async function convertToInteractive(key) {\n",
              "          const element = document.querySelector('#df-b21b168a-3761-434d-a865-d5347c7dc428');\n",
              "          const dataTable =\n",
              "            await google.colab.kernel.invokeFunction('convertToInteractive',\n",
              "                                                     [key], {});\n",
              "          if (!dataTable) return;\n",
              "\n",
              "          const docLinkHtml = 'Like what you see? Visit the ' +\n",
              "            '<a target=\"_blank\" href=https://colab.research.google.com/notebooks/data_table.ipynb>data table notebook</a>'\n",
              "            + ' to learn more about interactive tables.';\n",
              "          element.innerHTML = '';\n",
              "          dataTable['output_type'] = 'display_data';\n",
              "          await google.colab.output.renderOutput(dataTable, element);\n",
              "          const docLink = document.createElement('div');\n",
              "          docLink.innerHTML = docLinkHtml;\n",
              "          element.appendChild(docLink);\n",
              "        }\n",
              "      </script>\n",
              "    </div>\n",
              "  </div>\n",
              "  "
            ]
          },
          "metadata": {},
          "execution_count": 10
        }
      ]
    },
    {
      "cell_type": "code",
      "source": [
        "# data generator\n",
        "train_labels.label = train_labels.breed.astype(str)\n",
        "train_datagen = ImageDataGenerator(\n",
        "    validation_split=0.2, preprocessing_function=None, \n",
        "    rotation_range=45, zoom_range=0.2, horizontal_flip=True,\n",
        "    vertical_flip=True, fill_mode='nearest', shear_range=0.1,\n",
        "    width_shift_range=0.1, height_shift_range=0.1)\n",
        "\n",
        "train_generator = train_datagen.flow_from_dataframe(\n",
        "    dataframe=train_labels, directory=os.path.join(CFG.WORK_DIR, \"train\"),\n",
        "    subset='training', x_col='id', y_col='breed', target_size=(CFG.TARGET_SIZE, CFG.TARGET_SIZE),\n",
        "    batch_size=CFG.BATCH_SIZE, class_mode=\"categorical\", shuffle=True, seed=42)\n",
        "\n",
        "validation_dataget = ImageDataGenerator(validation_split=0.2)\n",
        "\n",
        "validation_generator = validation_dataget.flow_from_dataframe(\n",
        "    dataframe=train_labels, directory=os.path.join(CFG.WORK_DIR, \"train\"),\n",
        "    subset='validation', x_col='id', y_col='breed', target_size=(CFG.TARGET_SIZE, CFG.TARGET_SIZE),\n",
        "    batch_size=CFG.BATCH_SIZE, class_mode=\"categorical\", shuffle=False, seed=42)"
      ],
      "metadata": {
        "colab": {
          "base_uri": "https://localhost:8080/"
        },
        "id": "RWbebfozx-_F",
        "outputId": "5566e7c7-dc0c-4131-eb5b-c01397745c91"
      },
      "execution_count": 11,
      "outputs": [
        {
          "output_type": "stream",
          "name": "stdout",
          "text": [
            "Found 8178 validated image filenames belonging to 120 classes.\n",
            "Found 2044 validated image filenames belonging to 120 classes.\n"
          ]
        },
        {
          "output_type": "stream",
          "name": "stderr",
          "text": [
            "/usr/local/lib/python3.7/dist-packages/ipykernel_launcher.py:2: UserWarning: Pandas doesn't allow columns to be created via a new attribute name - see https://pandas.pydata.org/pandas-docs/stable/indexing.html#attribute-access\n",
            "  \n"
          ]
        }
      ]
    },
    {
      "cell_type": "code",
      "source": [
        "# model \n",
        "print('Creating model...')\n",
        "model = create_model()\n",
        "model.summary()"
      ],
      "metadata": {
        "colab": {
          "base_uri": "https://localhost:8080/"
        },
        "id": "Rc8kIBPoyDlo",
        "outputId": "52a1c69e-8780-475b-ff13-6ea656295580"
      },
      "execution_count": 12,
      "outputs": [
        {
          "output_type": "stream",
          "name": "stderr",
          "text": [
            "WARNING:tensorflow:`input_shape` is undefined or non-square, or `rows` is not in [96, 128, 160, 192, 224]. Weights for input shape (224, 224) will be loaded as the default.\n"
          ]
        },
        {
          "output_type": "stream",
          "name": "stdout",
          "text": [
            "Creating model...\n",
            "Downloading data from https://storage.googleapis.com/tensorflow/keras-applications/mobilenet_v2/mobilenet_v2_weights_tf_dim_ordering_tf_kernels_1.0_224_no_top.h5\n",
            "9406464/9406464 [==============================] - 0s 0us/step\n",
            "Model: \"model\"\n",
            "_________________________________________________________________\n",
            " Layer (type)                Output Shape              Param #   \n",
            "=================================================================\n",
            " input_2 (InputLayer)        [(None, 224, 224, 3)]     0         \n",
            "                                                                 \n",
            " mobilenetv2_1.00_224 (Funct  (None, None, None, 1280)  2257984  \n",
            " ional)                                                          \n",
            "                                                                 \n",
            " global_average_pooling (Glo  (None, 1280)             0         \n",
            " balAveragePooling2D)                                            \n",
            "                                                                 \n",
            " dropout (Dropout)           (None, 1280)              0         \n",
            "                                                                 \n",
            " dense (Dense)               (None, 120)               153720    \n",
            "                                                                 \n",
            "=================================================================\n",
            "Total params: 2,411,704\n",
            "Trainable params: 153,720\n",
            "Non-trainable params: 2,257,984\n",
            "_________________________________________________________________\n"
          ]
        }
      ]
    },
    {
      "cell_type": "code",
      "source": [
        "# callbacks\n",
        "model_save = ModelCheckpoint('model.h5', save_best_only=True, save_weight_only=True, monitor='val_loss', mode='min', verbose=1)\n",
        "early_stop = EarlyStopping(monitor='val_loss', min_delta=0.001, patience=5, mode='min', restore_best_weights=True, verbose=1)\n",
        "reduct_lr = ReduceLROnPlateau(monitor='val_loss', factor=0.3, patience=2, min_delta=0.001, mode='min', verbose=1)"
      ],
      "metadata": {
        "id": "kD3ZWkOH16U1"
      },
      "execution_count": 13,
      "outputs": []
    },
    {
      "cell_type": "code",
      "source": [
        "# training\n",
        "print('Training model...')\n",
        "history = model.fit(\n",
        "    train_generator, steps_per_epoch=STEPS_PER_EPOCH, epochs=CFG.EPOCHS,\n",
        "    validation_data=validation_generator, validation_steps=VALIDATION_STEPS,\n",
        "    callbacks=[model_save, early_stop, reduct_lr])"
      ],
      "metadata": {
        "colab": {
          "base_uri": "https://localhost:8080/",
          "height": 1000
        },
        "id": "M3-7aKVO19F7",
        "outputId": "17ad2491-3107-43e7-f3d7-b1eb37c18f9f"
      },
      "execution_count": 14,
      "outputs": [
        {
          "output_type": "stream",
          "name": "stdout",
          "text": [
            "Training model...\n",
            "Epoch 1/5\n",
            "255/255 [==============================] - ETA: 0s - loss: 5.1041 - accuracy: 0.0145\n",
            "Epoch 1: val_loss improved from inf to 4.85092, saving model to model.h5\n",
            "255/255 [==============================] - 128s 459ms/step - loss: 5.1041 - accuracy: 0.0145 - val_loss: 4.8509 - val_accuracy: 0.0193 - lr: 0.0010\n",
            "Epoch 2/5\n",
            "255/255 [==============================] - ETA: 0s - loss: 4.8401 - accuracy: 0.0255\n",
            "Epoch 2: val_loss improved from 4.85092 to 4.78632, saving model to model.h5\n",
            "255/255 [==============================] - 109s 427ms/step - loss: 4.8401 - accuracy: 0.0255 - val_loss: 4.7863 - val_accuracy: 0.0228 - lr: 0.0010\n",
            "Epoch 3/5\n",
            " 99/255 [==========>...................] - ETA: 1:02 - loss: 4.7498 - accuracy: 0.0290"
          ]
        },
        {
          "output_type": "stream",
          "name": "stderr",
          "text": [
            "ERROR:root:Internal Python error in the inspect module.\n",
            "Below is the traceback from this internal error.\n",
            "\n"
          ]
        },
        {
          "output_type": "stream",
          "name": "stdout",
          "text": [
            "Traceback (most recent call last):\n",
            "  File \"/usr/local/lib/python3.7/dist-packages/IPython/core/interactiveshell.py\", line 3326, in run_code\n",
            "    exec(code_obj, self.user_global_ns, self.user_ns)\n",
            "  File \"<ipython-input-14-f5cd8451c2ab>\", line 6, in <module>\n",
            "    callbacks=[model_save, early_stop, reduct_lr])\n",
            "  File \"/usr/local/lib/python3.7/dist-packages/keras/utils/traceback_utils.py\", line 64, in error_handler\n",
            "    return fn(*args, **kwargs)\n",
            "  File \"/usr/local/lib/python3.7/dist-packages/keras/engine/training.py\", line 1409, in fit\n",
            "    tmp_logs = self.train_function(iterator)\n",
            "  File \"/usr/local/lib/python3.7/dist-packages/tensorflow/python/util/traceback_utils.py\", line 150, in error_handler\n",
            "    return fn(*args, **kwargs)\n",
            "  File \"/usr/local/lib/python3.7/dist-packages/tensorflow/python/eager/def_function.py\", line 915, in __call__\n",
            "    result = self._call(*args, **kwds)\n",
            "  File \"/usr/local/lib/python3.7/dist-packages/tensorflow/python/eager/def_function.py\", line 947, in _call\n",
            "    return self._stateless_fn(*args, **kwds)  # pylint: disable=not-callable\n",
            "  File \"/usr/local/lib/python3.7/dist-packages/tensorflow/python/eager/function.py\", line 2454, in __call__\n",
            "    filtered_flat_args, captured_inputs=graph_function.captured_inputs)  # pylint: disable=protected-access\n",
            "  File \"/usr/local/lib/python3.7/dist-packages/tensorflow/python/eager/function.py\", line 1861, in _call_flat\n",
            "    ctx, args, cancellation_manager=cancellation_manager))\n",
            "  File \"/usr/local/lib/python3.7/dist-packages/tensorflow/python/eager/function.py\", line 502, in call\n",
            "    ctx=ctx)\n",
            "  File \"/usr/local/lib/python3.7/dist-packages/tensorflow/python/eager/execute.py\", line 55, in quick_execute\n",
            "    inputs, attrs, num_outputs)\n",
            "KeyboardInterrupt\n",
            "\n",
            "During handling of the above exception, another exception occurred:\n",
            "\n",
            "Traceback (most recent call last):\n",
            "  File \"/usr/local/lib/python3.7/dist-packages/IPython/core/interactiveshell.py\", line 2040, in showtraceback\n",
            "    stb = value._render_traceback_()\n",
            "AttributeError: 'KeyboardInterrupt' object has no attribute '_render_traceback_'\n",
            "\n",
            "During handling of the above exception, another exception occurred:\n",
            "\n",
            "Traceback (most recent call last):\n",
            "  File \"/usr/local/lib/python3.7/dist-packages/IPython/core/ultratb.py\", line 1101, in get_records\n",
            "    return _fixed_getinnerframes(etb, number_of_lines_of_context, tb_offset)\n",
            "  File \"/usr/local/lib/python3.7/dist-packages/IPython/core/ultratb.py\", line 319, in wrapped\n",
            "    return f(*args, **kwargs)\n",
            "  File \"/usr/local/lib/python3.7/dist-packages/IPython/core/ultratb.py\", line 353, in _fixed_getinnerframes\n",
            "    records = fix_frame_records_filenames(inspect.getinnerframes(etb, context))\n",
            "  File \"/usr/lib/python3.7/inspect.py\", line 1502, in getinnerframes\n",
            "    frameinfo = (tb.tb_frame,) + getframeinfo(tb, context)\n",
            "  File \"/usr/lib/python3.7/inspect.py\", line 1460, in getframeinfo\n",
            "    filename = getsourcefile(frame) or getfile(frame)\n",
            "  File \"/usr/lib/python3.7/inspect.py\", line 696, in getsourcefile\n",
            "    if getattr(getmodule(object, filename), '__loader__', None) is not None:\n",
            "  File \"/usr/lib/python3.7/inspect.py\", line 742, in getmodule\n",
            "    os.path.realpath(f)] = module.__name__\n",
            "  File \"/usr/lib/python3.7/posixpath.py\", line 396, in realpath\n",
            "    return abspath(path)\n",
            "  File \"/usr/lib/python3.7/posixpath.py\", line 385, in abspath\n",
            "    return normpath(path)\n",
            "  File \"/usr/lib/python3.7/posixpath.py\", line 366, in normpath\n",
            "    new_comps.append(comp)\n",
            "KeyboardInterrupt\n"
          ]
        },
        {
          "output_type": "error",
          "ename": "KeyboardInterrupt",
          "evalue": "ignored",
          "traceback": [
            "\u001b[0;31m---------------------------------------------------------------------------\u001b[0m"
          ]
        }
      ]
    },
    {
      "cell_type": "code",
      "source": [
        "# visualization\n",
        "plt.plot(history.history['loss'], label='train_loss')\n",
        "plt.plot(history.history['val_loss'], label='val_loss')\n",
        "plt.legend()\n",
        "plt.show()\n",
        "\n",
        "plt.plot(history.history['accuracy'], label='train_acc')\n",
        "plt.plot(history.history['val_accuracy'], label='val_acc')\n",
        "plt.legend()"
      ],
      "metadata": {
        "id": "gqMFhxeQ2BT0"
      },
      "execution_count": null,
      "outputs": []
    },
    {
      "cell_type": "code",
      "source": [],
      "metadata": {
        "id": "wNh5sJ0F2DUt"
      },
      "execution_count": null,
      "outputs": []
    }
  ]
}