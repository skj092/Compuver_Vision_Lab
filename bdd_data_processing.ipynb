{
  "nbformat": 4,
  "nbformat_minor": 0,
  "metadata": {
    "colab": {
      "provenance": [],
      "authorship_tag": "ABX9TyMHlw5P/PeHJ2dugES0F6mJ",
      "include_colab_link": true
    },
    "kernelspec": {
      "name": "python3",
      "display_name": "Python 3"
    },
    "language_info": {
      "name": "python"
    }
  },
  "cells": [
    {
      "cell_type": "markdown",
      "metadata": {
        "id": "view-in-github",
        "colab_type": "text"
      },
      "source": [
        "<a href=\"https://colab.research.google.com/github/skj092/Lab/blob/main/bdd_data_processing.ipynb\" target=\"_parent\"><img src=\"https://colab.research.google.com/assets/colab-badge.svg\" alt=\"Open In Colab\"/></a>"
      ]
    },
    {
      "cell_type": "markdown",
      "source": [
        "# Downloading the dataset"
      ],
      "metadata": {
        "id": "nonP4S8uO8OB"
      }
    },
    {
      "cell_type": "code",
      "source": [
        "!cp kaggle.json /root/.kaggle "
      ],
      "metadata": {
        "id": "ZKr3qF2nO3xq"
      },
      "execution_count": 2,
      "outputs": []
    },
    {
      "cell_type": "code",
      "execution_count": 3,
      "metadata": {
        "colab": {
          "base_uri": "https://localhost:8080/"
        },
        "id": "u5Zgjg_EOt6w",
        "outputId": "b9463401-7d64-48cb-e123-a77624c662d9"
      },
      "outputs": [
        {
          "output_type": "stream",
          "name": "stdout",
          "text": [
            "Warning: Your Kaggle API key is readable by other users on this system! To fix this, you can run 'chmod 600 /root/.kaggle/kaggle.json'\n",
            "Downloading solesensei_bdd100k.zip to /content\n",
            "100% 7.60G/7.61G [00:53<00:00, 224MB/s]\n",
            "100% 7.61G/7.61G [00:53<00:00, 154MB/s]\n"
          ]
        }
      ],
      "source": [
        "!kaggle datasets download -d solesensei/solesensei_bdd100k"
      ]
    },
    {
      "cell_type": "code",
      "source": [
        "!unzip -q /content/solesensei_bdd100k.zip"
      ],
      "metadata": {
        "id": "prLQyaXqPVCv"
      },
      "execution_count": 6,
      "outputs": []
    },
    {
      "cell_type": "code",
      "source": [
        "!rm /content/solesensei_bdd100k.zip"
      ],
      "metadata": {
        "id": "rXVeu9OOPXDi"
      },
      "execution_count": 7,
      "outputs": []
    },
    {
      "cell_type": "code",
      "source": [
        "!rm -r /content/bdd100k_seg"
      ],
      "metadata": {
        "id": "HzBfEpQwQINX"
      },
      "execution_count": 9,
      "outputs": []
    },
    {
      "cell_type": "markdown",
      "source": [
        "# Formatting the dataset"
      ],
      "metadata": {
        "id": "OnH_Dry3PyGX"
      }
    },
    {
      "cell_type": "code",
      "source": [
        "!mkdir labels\n",
        "!mkdir labels/valids/\n",
        "!mkdir labels/trains/"
      ],
      "metadata": {
        "id": "tAjiwtASQYQp"
      },
      "execution_count": 11,
      "outputs": []
    },
    {
      "cell_type": "code",
      "source": [
        "import os\n",
        "import json\n",
        "import argparse\n",
        "from tqdm import tqdm\n",
        "\n",
        "\n",
        "\n",
        "def bdd2coco_detection(id_dict, labeled_images, fn):\n",
        "\n",
        "    images = list()\n",
        "    annotations = list()\n",
        "\n",
        "    counter = 0\n",
        "    for i in tqdm(labeled_images):\n",
        "        counter += 1\n",
        "        image = dict()\n",
        "        image['file_name'] = i['name']\n",
        "        image['height'] = 720\n",
        "        image['width'] = 1280\n",
        "\n",
        "        image['id'] = counter\n",
        "\n",
        "        empty_image = True\n",
        "\n",
        "        for label in i['labels']:\n",
        "            annotation = dict()\n",
        "            category=label['category']\n",
        "            if (category == \"traffic light\"):\n",
        "                color = label['attributes']['trafficLightColor']\n",
        "                category = \"tl_\" + color\n",
        "            if category in id_dict.keys():\n",
        "                empty_image = False\n",
        "                annotation[\"iscrowd\"] = 0\n",
        "                annotation[\"image_id\"] = image['id']\n",
        "                x1 = label['box2d']['x1']\n",
        "                y1 = label['box2d']['y1']\n",
        "                x2 = label['box2d']['x2']\n",
        "                y2 = label['box2d']['y2']\n",
        "                annotation['bbox'] = [x1, y1, x2-x1, y2-y1]\n",
        "                annotation['area'] = float((x2 - x1) * (y2 - y1))\n",
        "                annotation['category_id'] = id_dict[category]\n",
        "                annotation['ignore'] = 0\n",
        "                annotation['id'] = label['id']\n",
        "                annotation['segmentation'] = [[x1, y1, x1, y2, x2, y2, x2, y1]]\n",
        "                annotations.append(annotation)\n",
        "\n",
        "        if empty_image:\n",
        "            continue\n",
        "\n",
        "        images.append(image)\n",
        "\n",
        "    attr_dict[\"images\"] = images\n",
        "    attr_dict[\"annotations\"] = annotations\n",
        "    attr_dict[\"type\"] = \"instances\"\n",
        "\n",
        "    print('saving...')\n",
        "    json_string = json.dumps(attr_dict)\n",
        "    with open(fn, \"w\") as file:\n",
        "        file.write(json_string)\n",
        "\n",
        "\n",
        "if __name__ == '__main__':\n",
        "\n",
        "    label_dir=\"/content/bdd100k_labels_release/bdd100k/labels\"\n",
        "    save_path=\"labels/\"\n",
        "\n",
        "    attr_dict = dict()\n",
        "    attr_dict[\"categories\"] = [\n",
        "        {\"supercategory\": \"none\", \"id\": 1, \"name\": \"person\"},\n",
        "        {\"supercategory\": \"none\", \"id\": 2, \"name\": \"rider\"},\n",
        "        {\"supercategory\": \"none\", \"id\": 3, \"name\": \"car\"},\n",
        "        {\"supercategory\": \"none\", \"id\": 4, \"name\": \"bus\"},\n",
        "        {\"supercategory\": \"none\", \"id\": 5, \"name\": \"truck\"},\n",
        "        {\"supercategory\": \"none\", \"id\": 6, \"name\": \"bike\"},\n",
        "        {\"supercategory\": \"none\", \"id\": 7, \"name\": \"motor\"},\n",
        "        {\"supercategory\": \"none\", \"id\": 8, \"name\": \"tl_green\"},\n",
        "        {\"supercategory\": \"none\", \"id\": 9, \"name\": \"tl_red\"},\n",
        "        {\"supercategory\": \"none\", \"id\": 10, \"name\": \"tl_yellow\"},\n",
        "        {\"supercategory\": \"none\", \"id\": 11, \"name\": \"tl_none\"},\n",
        "        {\"supercategory\": \"none\", \"id\": 12, \"name\": \"traffic sign\"},\n",
        "        {\"supercategory\": \"none\", \"id\": 13, \"name\": \"train\"}\n",
        "    ]\n",
        "\n",
        "    attr_id_dict = {i['name']: i['id'] for i in attr_dict['categories']}\n",
        "\n",
        "    # create BDD training set detections in COCO format\n",
        "    print('Loading training set...')\n",
        "    with open(os.path.join(label_dir,\n",
        "                           'bdd100k_labels_images_train.json')) as f:\n",
        "        train_labels = json.load(f)\n",
        "    print('Converting training set...')\n",
        "\n",
        "    out_fn = os.path.join(save_path,\n",
        "                          'bdd100k_labels_images_det_coco_train.json')\n",
        "    bdd2coco_detection(attr_id_dict, train_labels, out_fn)\n",
        "\n",
        "    print('Loading validation set...')\n",
        "    # create BDD validation set detections in COCO format\n",
        "    with open(os.path.join(label_dir,\n",
        "                           'bdd100k_labels_images_val.json')) as f:\n",
        "        val_labels = json.load(f)\n",
        "    print('Converting validation set...')\n",
        "\n",
        "    out_fn = os.path.join(save_path,\n",
        "                          'bdd100k_labels_images_det_coco_val.json')\n",
        "    bdd2coco_detection(attr_id_dict, val_labels, out_fn)"
      ],
      "metadata": {
        "colab": {
          "base_uri": "https://localhost:8080/"
        },
        "id": "-FISg_WeQEgL",
        "outputId": "9d25cbad-4556-4931-8967-0430bcf9eb9b"
      },
      "execution_count": 13,
      "outputs": [
        {
          "output_type": "stream",
          "name": "stdout",
          "text": [
            "Loading training set...\n",
            "Converting training set...\n"
          ]
        },
        {
          "output_type": "stream",
          "name": "stderr",
          "text": [
            "100%|██████████| 69863/69863 [00:16<00:00, 4252.21it/s]\n"
          ]
        },
        {
          "output_type": "stream",
          "name": "stdout",
          "text": [
            "saving...\n",
            "Loading validation set...\n",
            "Converting validation set...\n"
          ]
        },
        {
          "output_type": "stream",
          "name": "stderr",
          "text": [
            "100%|██████████| 10000/10000 [00:01<00:00, 9908.14it/s]\n"
          ]
        },
        {
          "output_type": "stream",
          "name": "stdout",
          "text": [
            "saving...\n"
          ]
        }
      ]
    },
    {
      "cell_type": "code",
      "source": [
        "#-*-coding:utf-8-*-\n",
        "# python3 example.py --datasets COCO --img_path /home/iav/code/bdd100k_yolov5/bdd100k_images/bdd100k/images/100k/train --label labels/bdd100k_labels_images_det_coco_val.json --convert_output_path train_labels/ --img_type \".jpg\" --manipast_path ./ --cls_list_file bdd100k.names\n",
        "\n",
        "import os\n",
        "from xml.etree.ElementTree import dump\n",
        "import json\n",
        "import pprint\n",
        "\n",
        "import argparse\n",
        "\n",
        "from format import COCO,YOLO\n",
        "\n",
        "def main(config):\n",
        "\n",
        "    if config[\"datasets\"] == \"COCO\":\n",
        "        coco = COCO()\n",
        "        yolo = YOLO(os.path.abspath(config[\"cls_list\"]))\n",
        "\n",
        "        flag, data = coco.parse(config[\"label\"])\n",
        "\n",
        "        if flag == True:\n",
        "            flag, data = yolo.generate(data)\n",
        "\n",
        "            if flag == True:\n",
        "                flag, data = yolo.save(data, config[\"output_path\"], config[\"img_path\"],\n",
        "                                        config[\"img_type\"], config[\"manipast_path\"])\n",
        "\n",
        "                if flag == False:\n",
        "                    print(\"Saving Result : {}, msg : {}\".format(flag, data))\n",
        "\n",
        "            else:\n",
        "                print(\"YOLO Generating Result : {}, msg : {}\".format(flag, data))\n",
        "\n",
        "        else:\n",
        "            print(\"COCO Parsing Result : {}, msg : {}\".format(flag, data))\n",
        "\n",
        "    else:\n",
        "        print(\"Unkwon Datasets\")\n",
        "\n",
        "if __name__ == '__main__':\n",
        "\n",
        "#     config ={\n",
        "#         \"datasets\": \"COCO\",\n",
        "#         \"img_path\": \"bdd100k_images/bdd100k/images/100k/train\",\n",
        "#         \"label\": \"labels/bdd100k_labels_images_det_coco_train.json\",\n",
        "#         \"img_type\": \".jpg\",\n",
        "#         \"manipast_path\": \"./\",\n",
        "#         \"output_path\": \"labels/trains/\",\n",
        "#         \"cls_list\": \"data/bdd100k.names\",\n",
        "#     }\n",
        "    config ={\n",
        "        \"datasets\": \"COCO\",\n",
        "        \"img_path\": \"/content/bdd100k/bdd100k/images/100k/val\",\n",
        "        \"label\": \"/content/labels/bdd100k_labels_images_det_coco_val.json\",\n",
        "        \"img_type\": \".jpg\",\n",
        "        \"manipast_path\": \"./\",\n",
        "        \"output_path\": \"labels/valids/\",\n",
        "        \"cls_list\": \"bdd100k.names\",\n",
        "    }\n",
        "\n",
        "    main(config)"
      ],
      "metadata": {
        "colab": {
          "base_uri": "https://localhost:8080/"
        },
        "id": "Mu_tHigSQPkO",
        "outputId": "a256b4d1-3427-44bb-c90d-6fd93352ace6"
      },
      "execution_count": 14,
      "outputs": [
        {
          "output_type": "stream",
          "name": "stdout",
          "text": [
            "\n",
            "COCO Parsing:  |████████████████████████████████████████| 100.0% (185526/185526)  Complete\n",
            "\n",
            "\n",
            "YOLO Generating:|████████████████████████████████████████| 100.0% (10000/10000)  Complete\n",
            "\n",
            "\n",
            "YOLO Saving:   |████████████████████████████████████████| 100.0% (10000/10000)  Complete\n",
            "\n"
          ]
        }
      ]
    },
    {
      "cell_type": "code",
      "source": [
        "#-*-coding:utf-8-*-\n",
        "# python3 example.py --datasets COCO --img_path /home/iav/code/bdd100k_yolov5/bdd100k_images/bdd100k/images/100k/train --label labels/bdd100k_labels_images_det_coco_val.json --convert_output_path train_labels/ --img_type \".jpg\" --manipast_path ./ --cls_list_file bdd100k.names\n",
        "\n",
        "import os\n",
        "from xml.etree.ElementTree import dump\n",
        "import json\n",
        "import pprint\n",
        "\n",
        "import argparse\n",
        "\n",
        "from format import COCO,YOLO\n",
        "\n",
        "def main(config):\n",
        "\n",
        "    if config[\"datasets\"] == \"COCO\":\n",
        "        coco = COCO()\n",
        "        yolo = YOLO(os.path.abspath(config[\"cls_list\"]))\n",
        "\n",
        "        flag, data = coco.parse(config[\"label\"])\n",
        "\n",
        "        if flag == True:\n",
        "            flag, data = yolo.generate(data)\n",
        "\n",
        "            if flag == True:\n",
        "                flag, data = yolo.save(data, config[\"output_path\"], config[\"img_path\"],\n",
        "                                        config[\"img_type\"], config[\"manipast_path\"])\n",
        "\n",
        "                if flag == False:\n",
        "                    print(\"Saving Result : {}, msg : {}\".format(flag, data))\n",
        "\n",
        "            else:\n",
        "                print(\"YOLO Generating Result : {}, msg : {}\".format(flag, data))\n",
        "\n",
        "        else:\n",
        "            print(\"COCO Parsing Result : {}, msg : {}\".format(flag, data))\n",
        "\n",
        "    else:\n",
        "        print(\"Unkwon Datasets\")\n",
        "\n",
        "if __name__ == '__main__':\n",
        "\n",
        "    config ={\n",
        "        \"datasets\": \"COCO\",\n",
        "        \"img_path\": \"/content/bdd100k/bdd100k/images/100k/train\",\n",
        "        \"label\": \"/content/labels/bdd100k_labels_images_det_coco_train.json\",\n",
        "        \"img_type\": \".jpg\",\n",
        "        \"manipast_path\": \"./\",\n",
        "        \"output_path\": \"labels/trains/\",\n",
        "        \"cls_list\": \"bdd100k.names\",\n",
        "    }\n",
        "\n",
        "\n",
        "    main(config)"
      ],
      "metadata": {
        "id": "ncQlz5xbRwkk"
      },
      "execution_count": null,
      "outputs": []
    },
    {
      "cell_type": "code",
      "source": [
        "import glob, os, shutil\n",
        "\n",
        "'''\n",
        "Sometimes your image data set might not match with your label data set.\n",
        "This code does the folowing\n",
        "(1) Go through your image data set\n",
        "(2) Search if the corresponding label file exist in the label data set. \n",
        "(3) If not, remove current image\n",
        "'''\n",
        "\n",
        "\n",
        "def copy_filter(label_dir,image_dir,target_dir_images,target_dir_labels):\n",
        "    for image in os.listdir(image_dir):\n",
        "        if image.endswith('jpg'):\n",
        "            image_name = os.path.splitext(image)[0]\n",
        "\n",
        "            # Corresponding label file name\n",
        "            label_name = image_name + '.txt'\n",
        "            image_path = image_dir + '/' + image_name + '.jpg'\n",
        "            if os.path.isfile(label_dir + '/' + label_name) == False:\n",
        "                print(\" -- DELETE IMAGE [Label file not found -- ]\")\n",
        "                \n",
        "                print(image_path)\n",
        "#                 os.remove(image_path)\n",
        "#             else:\n",
        "                target_images=target_dir_images+ '/' + image_name + '.jpg'\n",
        "                shutil.copy(image_path,target_dir_images )\n",
        "                print(\" --COPY IMAGE \"+target_images)\n",
        "\n",
        "\n",
        "    for label in os.listdir(label_dir):\n",
        "        if label.endswith('.txt'):\n",
        "            label_name = os.path.splitext(label)[0]\n",
        "\n",
        "            # Corresponding label file name\n",
        "            image_name = label_name + '.jpg'\n",
        "            label_path = label_dir + '/' + label_name + '.txt'\n",
        "            if os.path.isfile(image_dir + '/' + image_name) == False:\n",
        "                print(\" -- DELETE LABEL [Image file not found -- ]\")\n",
        "                print(label_path)\n",
        "#                 os.remove(label_path)\n",
        "#             else:\n",
        "                target_labels=target_dir_labels+ '/' + label_name + '.txt'\n",
        "                shutil.copy(label_path,target_labels )\n",
        "                print(\" --COPY lABELS \"+target_labels)"
      ],
      "metadata": {
        "id": "gJuWE5r2SKxc"
      },
      "execution_count": 21,
      "outputs": []
    },
    {
      "cell_type": "code",
      "source": [
        "!mkdir bdd100k/images/\n",
        "!mkdir bdd100k/labels/"
      ],
      "metadata": {
        "colab": {
          "base_uri": "https://localhost:8080/"
        },
        "id": "oVA8lZ9ISZgP",
        "outputId": "31b281ce-c3b1-4f18-d79f-905dd0ac9933"
      },
      "execution_count": 22,
      "outputs": [
        {
          "output_type": "stream",
          "name": "stdout",
          "text": [
            "mkdir: cannot create directory ‘bdd100k/images/’: File exists\n",
            "mkdir: cannot create directory ‘bdd100k/labels/’: File exists\n"
          ]
        }
      ]
    },
    {
      "cell_type": "code",
      "source": [
        "!mkdir bdd100k/images/trains\n",
        "!mkdir bdd100k/labels/trains\n",
        "!mkdir bdd100k/images/valids\n",
        "!mkdir bdd100k/labels/valids"
      ],
      "metadata": {
        "colab": {
          "base_uri": "https://localhost:8080/"
        },
        "id": "4arsTutFSOc-",
        "outputId": "8acbfc03-af52-4cb3-bea9-874b2c7e1773"
      },
      "execution_count": 23,
      "outputs": [
        {
          "output_type": "stream",
          "name": "stdout",
          "text": [
            "mkdir: cannot create directory ‘bdd100k/images/trains’: File exists\n",
            "mkdir: cannot create directory ‘bdd100k/labels/trains’: File exists\n",
            "mkdir: cannot create directory ‘bdd100k/images/valids’: File exists\n",
            "mkdir: cannot create directory ‘bdd100k/labels/valids’: File exists\n"
          ]
        }
      ]
    },
    {
      "cell_type": "code",
      "source": [
        "# label_dir = '/labels/trains'\n",
        "# image_dir = '/content/bdd100k/bdd100k/images/100k/train'\n",
        "# target_dir_images=\"bdd100k/images/trains\"\n",
        "# target_dir_labels=\"bdd100k/labels/trains\"\n",
        "# copy_filter(label_dir,image_dir,target_dir_images,target_dir_labels)"
      ],
      "metadata": {
        "id": "D9t3AkimSftC"
      },
      "execution_count": 24,
      "outputs": []
    },
    {
      "cell_type": "code",
      "source": [
        "label_dir = '/content/labels/valids'\n",
        "image_dir = '/content/bdd100k/bdd100k/images/100k/val'\n",
        "target_dir_images=\"bdd100k/images/valids\"\n",
        "target_dir_labels=\"bdd100k/labels/valids\"\n",
        "copy_filter(label_dir,image_dir,target_dir_images,target_dir_labels)"
      ],
      "metadata": {
        "id": "7ApER33JShSy"
      },
      "execution_count": 30,
      "outputs": []
    },
    {
      "cell_type": "code",
      "source": [
        "labels_list=glob.glob(\"/content/labels/valids\"+\"/\"+\"*.txt\")\n",
        "images_list=glob.glob(\"bdd100k/images/valids\"+\"/\"+\"*.jpg\")\n",
        "print(len(labels_list))\n",
        "print(len(images_list))\n",
        "\n",
        "# labels_list2=glob.glob(\"bdd100k/labels/trains\"+\"/\"+\"*.txt\")\n",
        "# images_list2=glob.glob(\"bdd100k/images/trains\"+\"/\"+\"*.jpg\")\n",
        "# print(len(labels_list2))\n",
        "# print(len(images_list2))"
      ],
      "metadata": {
        "colab": {
          "base_uri": "https://localhost:8080/"
        },
        "id": "d0QRCwVqUAwD",
        "outputId": "58f1129d-4c10-455b-d5cd-09a9b791a502"
      },
      "execution_count": 29,
      "outputs": [
        {
          "output_type": "stream",
          "name": "stdout",
          "text": [
            "10000\n",
            "10000\n"
          ]
        }
      ]
    },
    {
      "cell_type": "code",
      "source": [
        "# copy test_img folder\n",
        "!cp -r bdd100k_images/bdd100k/images/100k/test/ bdd100k/images/"
      ],
      "metadata": {
        "id": "aOOETaaRUDUT"
      },
      "execution_count": null,
      "outputs": []
    }
  ]
}